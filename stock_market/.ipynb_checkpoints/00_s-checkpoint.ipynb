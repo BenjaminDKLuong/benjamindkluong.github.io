{
 "cells": [
  {
   "cell_type": "raw",
   "metadata": {},
   "source": [
    "---\n",
    "title: \"How to split a data set \"\n",
    "description: \" \"\n",
    "author: \"Benjamin DK Luong\"\n",
    "date: \"2019-08-11\"\n",
    "categories: [Stock Market 00]\n",
    "---"
   ]
  },
  {
   "cell_type": "markdown",
   "metadata": {},
   "source": [
    "We should use Stratified split because we usually have unbalanced target classes.  We want the model to see all target classes.\n",
    "\n",
    "![](../images/00.png)\n",
    "\n",
    "Stratified K-Fold method divides the data into k blocks, and it makes sure that each set contains approximately the same percentage of samples of each target class as the complete set.\n",
    "\n",
    "Shuffle Split method randomly selects observations, and it makes sure that each set contains approximately the same percentage of samples of each target class as the complete set.\n"
   ]
  }
 ],
 "metadata": {
  "kernelspec": {
   "display_name": "Python 3 (ipykernel)",
   "language": "python",
   "name": "python3"
  }
 },
 "nbformat": 4,
 "nbformat_minor": 2
}
