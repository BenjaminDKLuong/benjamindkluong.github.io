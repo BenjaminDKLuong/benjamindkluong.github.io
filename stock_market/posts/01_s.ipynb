{
 "cells": [
  {
   "cell_type": "raw",
   "metadata": {},
   "source": [
    "---\n",
    "title: \"Basic recipe for machine learning: High bias? High variance?\"\n",
    "description: \" \"\n",
    "author: \"Benjamin DK Luong\"\n",
    "date: \"2019-09-12\"\n",
    "categories: [Stock Market 01]\n",
    "image: \"../../images/01.png\"\n",
    "draft: false\n",
    "---"
   ]
  },
  {
   "cell_type": "markdown",
   "metadata": {},
   "source": [
    "# How to check for High Bias, High Variance:\n",
    "- High bias (underfit) means the model doesnt get trained enough\n",
    "- High variance (overfit) means the model is overtrained\n",
    "\n",
    "|  | Case 1 | Case 2 | Case 3 | Case 4 |\n",
    "|---------|:-----|:------|:------|:------|\n",
    "| Train error      | 1%   |    15% |   15%   | 0.5%  |\n",
    "| Test error     | 11%  |   16% |  30%   |  1% |\n",
    "|       | **High variance:** The model memorizes the training set. It performs badly on the test set    |     **High bias:** The model doesnt lean enough |   **High variance and High bias:** The model doesnt learn enough, and performs badly on the test set   |  **Low variance and Low bias:** This is where we want the model to be |\n",
    "\n",
    "# Treatments\n",
    "- First, we check for high bias (underfit). If YES (high train error), we make bigger network, train more layers, etc, then retrain the model. If NO, we have low train error, we move to the next step.\n",
    "- Next, we check for high variance (overfit). If YES (high test error), we add more data, dropout, regulations, etc, then retrain the model. If NO, we are done."
   ]
  }
 ],
 "metadata": {
  "kernelspec": {
   "display_name": "nbdev",
   "language": "python",
   "name": "python3"
  },
  "language_info": {
   "name": "python",
   "version": "3.9.15 (main, Nov 24 2022, 14:39:17) [MSC v.1916 64 bit (AMD64)]"
  },
  "vscode": {
   "interpreter": {
    "hash": "cb8f5cf1a1107aab0b3e47f122a2af3cc97d163a0fda96ce3858310237ebce90"
   }
  }
 },
 "nbformat": 4,
 "nbformat_minor": 2
}
