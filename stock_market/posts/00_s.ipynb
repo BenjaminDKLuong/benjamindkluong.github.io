{
 "cells": [
  {
   "cell_type": "raw",
   "metadata": {},
   "source": [
    "---\n",
    "title: \"Download stock data\"\n",
    "description: \" \"\n",
    "author: \"Benjamin DK Luong\"\n",
    "date: \"2019-09-09\"\n",
    "categories: [Stock Market, Download]\n",
    "image: \"../images/00.png\"\n",
    "---"
   ]
  },
  {
   "attachments": {},
   "cell_type": "markdown",
   "metadata": {},
   "source": [
    "In this project, I would like to get my data from 2 sources: \n",
    "\n",
    "1. [Stock market dataset from Kaggle](https://www.kaggle.com/borismarjanovic/price-volume-data-for-all-us-stocks-etfs)\n",
    "2. TD Ameritrade api (for intraday data)\n",
    "\n",
    "I will try to play with Kaggle data first because I want to set up initial pipeline for my project, and make this project going faster.\n",
    "Getting data from TD Ameritrade is more complicated, so I will try it later.  I will follow the instruction [here](https://www.youtube.com/watch?v=qJ94sSyPGBw)."
   ]
  }
 ],
 "metadata": {
  "kernelspec": {
   "display_name": "nbdev",
   "language": "python",
   "name": "python3"
  },
  "language_info": {
   "name": "python",
   "version": "3.9.15 (main, Nov 24 2022, 14:39:17) [MSC v.1916 64 bit (AMD64)]"
  },
  "vscode": {
   "interpreter": {
    "hash": "cb8f5cf1a1107aab0b3e47f122a2af3cc97d163a0fda96ce3858310237ebce90"
   }
  }
 },
 "nbformat": 4,
 "nbformat_minor": 2
}
