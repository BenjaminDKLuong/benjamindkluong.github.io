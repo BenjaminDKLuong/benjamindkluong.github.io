{
 "cells": [
  {
   "cell_type": "raw",
   "metadata": {},
   "source": [
    "---\n",
    "title: \"Is Only Accuracy Score Enough?\"\n",
    "description: \" \"\n",
    "author: \"Benjamin DK Luong\"\n",
    "date: \"2019-10-10\"\n",
    "categories: [Data Science]\n",
    "image: \"../images/02.png\"\n",
    "draft: false\n",
    "---"
   ]
  },
  {
   "attachments": {},
   "cell_type": "markdown",
   "metadata": {},
   "source": [
    "When we work with classification problems, we often check for the accuracy score to see how well our models are doing.  However, looking only at the accuracy score is not enough.\n",
    "\n",
    "|MODEL 1 |\tPredict 0 |\tPredict 1 |\n",
    "|--------|------------|-----------|\n",
    "|Actuals 0\t| 238,541 |\t847|\n",
    "|Actuals 1\t| 2,648 |\t40|\n",
    "\n",
    "|MODEL 2 |\tPredict 0 |\tPredict 1 |\n",
    "|--------|------------|-----------|\n",
    "|Actuals 0\t| 180,896\t| 58,492|\n",
    "|Actuals 1\t| 550\t| 2,138|\n",
    "\n",
    "Let's say we want to detect frauds.  The model output equals 1 means it predicts the transaction is a fraud.  In our dataset, we have majority transactions are not frauds which are 0.  When we train a model, we easily get high accuracy score because we have imbalanced dataset which has more 0 than 1.  Comparing the accuracy score between two models, Model 1 has accuracy score : (238541+ 40)/(238541+ 847+ 2648+40) = 0.98556, and Model 2 has accuracy score: (180896+ 2138)/(180896+ 58492 + 550 +2138) = 0.7561.  If we choose a model based on the accuracy score, we will choose Model 1 because it has high accuracy score.  It's able to predict 98.556% correctly.\n",
    "\n",
    "However, we can see that Model 1 is able to predict 40 out 2688 frauds.  The recall score is 40/(40+2648)= 0.01488= 1.488% which means the model doesn't capture frauds, only 1.488% of frauds are predicted.  On the other hand, the Model 2 recall score = 2138 / (550 + 2138) = 0.79539 = 79.539%.  It means we are able to capture 79.539% of frauds.  In the Model 2, we think a lot of normal transactions are frauds, but it's worth to check them to make sure they are not frauds."
   ]
  }
 ],
 "metadata": {
  "kernelspec": {
   "display_name": "nbdev",
   "language": "python",
   "name": "python3"
  },
  "language_info": {
   "name": "python",
   "version": "3.9.15 (main, Nov 24 2022, 14:39:17) [MSC v.1916 64 bit (AMD64)]"
  },
  "vscode": {
   "interpreter": {
    "hash": "cb8f5cf1a1107aab0b3e47f122a2af3cc97d163a0fda96ce3858310237ebce90"
   }
  }
 },
 "nbformat": 4,
 "nbformat_minor": 2
}
