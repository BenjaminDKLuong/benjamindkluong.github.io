{
 "cells": [
  {
   "cell_type": "raw",
   "metadata": {},
   "source": [
    "---\n",
    "title: \"Test\"\n",
    "description: \"\"\n",
    "author: \"Benjamin DK Luong\"\n",
    "date: \"2019-08-15\"\n",
    "categories: [Data Science]\n",
    "image: \"../images/image.jpg\"\n",
    "draft: true\n",
    "---"
   ]
  }
 ],
 "metadata": {
  "kernelspec": {
   "display_name": "nbdev",
   "language": "python",
   "name": "python3"
  },
  "language_info": {
   "name": "python",
   "version": "3.9.15 (main, Nov 24 2022, 14:39:17) [MSC v.1916 64 bit (AMD64)]"
  },
  "vscode": {
   "interpreter": {
    "hash": "cb8f5cf1a1107aab0b3e47f122a2af3cc97d163a0fda96ce3858310237ebce90"
   }
  }
 },
 "nbformat": 4,
 "nbformat_minor": 2
}
