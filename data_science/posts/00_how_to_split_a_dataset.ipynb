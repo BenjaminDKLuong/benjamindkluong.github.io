{
 "cells": [
  {
   "cell_type": "raw",
   "metadata": {},
   "source": [
    "---\n",
    "title: \"How to split a data set \"\n",
    "description: \"\"\n",
    "author: \"Benjamin DK Luong\"\n",
    "date: \"2019-08-25\"\n",
    "categories: [Data Science]\n",
    "---"
   ]
  },
  {
   "attachments": {},
   "cell_type": "markdown",
   "metadata": {},
   "source": [
    "We should use Stratified split because we usually have unbalanced target classes.  We want the model to see all target classes.\n",
    "\n",
    "![](../images/00.png)\n",
    "\n",
    "Stratified K-Fold method divides the data into k blocks, and it makes sure that each set contains approximately the same percentage of samples of each target class as the complete set.\n",
    "\n",
    "Shuffle Split method randomly selects observations, and it makes sure that each set contains approximately the same percentage of samples of each target class as the complete set.\n"
   ]
  },
  {
   "cell_type": "code",
   "execution_count": null,
   "metadata": {},
   "outputs": [],
   "source": []
  }
 ],
 "metadata": {
  "kernelspec": {
   "display_name": "nbdev",
   "language": "python",
   "name": "python3"
  },
  "language_info": {
   "name": "python",
   "version": "3.9.15 (main, Nov 24 2022, 14:39:17) [MSC v.1916 64 bit (AMD64)]"
  },
  "vscode": {
   "interpreter": {
    "hash": "cb8f5cf1a1107aab0b3e47f122a2af3cc97d163a0fda96ce3858310237ebce90"
   }
  }
 },
 "nbformat": 4,
 "nbformat_minor": 2
}
