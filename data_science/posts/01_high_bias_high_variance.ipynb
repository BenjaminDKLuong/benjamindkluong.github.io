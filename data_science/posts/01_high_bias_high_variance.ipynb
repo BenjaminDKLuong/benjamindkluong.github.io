{
 "cells": [
  {
   "cell_type": "raw",
   "metadata": {},
   "source": [
    "---\n",
    "title: \"Basic recipe for machine learning: High bias? High variance?\"\n",
    "description: \"\"\n",
    "author: \"Benjamin DK Luong\"\n",
    "date: \"2019-09-15\"\n",
    "categories: [Data Science]\n",
    "image: \"../../images/01.png\"\n",
    "draft: false\n",
    "---"
   ]
  },
  {
   "cell_type": "markdown",
   "metadata": {},
   "source": [
    "# How to check for High Bias, High Variance:\n",
    "- High bias (underfit) means the model doesnt get trained enough\n",
    "- High variance (overfit) means the model is overtrained\n",
    "\n",
    "|  | Case 1 | Case 2 | Case 3 | Case 4 |\n",
    "|---------|:-----|:------|:------|:------|\n",
    "| Train error      | 1%   |    15% |   15%   | 0.5%  |\n",
    "| Test error     | 11%  |   16% |  30%   |  1% |\n",
    "|       | **High variance:** The model memorizes the training set. It performs badly on the test set    |     **High bias:** The model doesnt lean enough |   **High variance and High bias:** The model doesnt learn enough, and performs badly on the test set   |  **Low variance and Low bias:** This is where we want the model to be |\n",
    "\n",
    "# Treatments\n",
    "- First, we check for high bias (underfit). If YES (high train error), we make bigger network, train more layers, etc, then retrain the model. If NO, we have low train error, we move to the next step.\n",
    "- Next, we check for high variance (overfit). If YES (high test error), we add more data, dropout, regulations, etc, then retrain the model. If NO, we are done."
   ]
  },
  {
   "cell_type": "code",
   "execution_count": null,
   "metadata": {
    "vscode": {
     "languageId": "python"
    }
   },
   "outputs": [],
   "source": []
  }
 ],
 "metadata": {
  "kernelspec": {
   "display_name": "Python 3 (ipykernel)",
   "language": "python",
   "name": "python3"
  }
 },
 "nbformat": 4,
 "nbformat_minor": 2
}
